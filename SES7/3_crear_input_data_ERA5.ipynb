{
 "cells": [
  {
   "cell_type": "markdown",
   "metadata": {},
   "source": [
    "# Crear el archivo de entrada con datos meteorológicos\n",
    "\n",
    "En este cuaderno aprenderás a crear datos de entrada para el modelo glaciológico. Usaremos datos meteorológicos y topográficos. Usaremos un método simple de interpolación para distribuir los datos en todo el glaciar. "
   ]
  },
  {
   "cell_type": "markdown",
   "metadata": {},
   "source": [
    "## Importar librerias **`xarray`** y **`numpy`**"
   ]
  },
  {
   "cell_type": "code",
   "execution_count": null,
   "metadata": {},
   "outputs": [],
   "source": [
    "import xarray as xr\n",
    "import numpy as np\n",
    "import matplotlib.pyplot as plt"
   ]
  },
  {
   "cell_type": "markdown",
   "metadata": {},
   "source": [
    "## Leer datos"
   ]
  },
  {
   "cell_type": "code",
   "execution_count": null,
   "metadata": {},
   "outputs": [],
   "source": [
    "# Topográficos\n",
    "ds_met = xr.open_dataset('./data/ERA5_bell.nc')\n",
    "# Meteorológicos\n",
    "ds_sta = xr.open_dataset('../SES6/dom/Bell_dom.nc')"
   ]
  },
  {
   "cell_type": "code",
   "execution_count": null,
   "metadata": {},
   "outputs": [],
   "source": [
    "ds_met"
   ]
  },
  {
   "cell_type": "code",
   "execution_count": null,
   "metadata": {},
   "outputs": [],
   "source": [
    "ds_sta"
   ]
  },
  {
   "cell_type": "markdown",
   "metadata": {},
   "source": [
    "## Hacer una copia para guardar los datos de entrada"
   ]
  },
  {
   "cell_type": "code",
   "execution_count": null,
   "metadata": {},
   "outputs": [],
   "source": [
    "dso = ds_sta.copy()    \n",
    "dso.coords['time'] = ds_met.valid_time.values\n",
    "dso"
   ]
  },
  {
   "cell_type": "markdown",
   "metadata": {},
   "source": [
    "## Interpolar las variables de temperatura y precipitación "
   ]
  },
  {
   "cell_type": "code",
   "execution_count": null,
   "metadata": {},
   "outputs": [],
   "source": [
    "T_interp   = np.zeros([len(dso.time), len(ds_sta.lat), len(ds_sta.lon)])\n",
    "RRR_interp = np.zeros([len(dso.time), len(ds_sta.lat), len(ds_sta.lon)])"
   ]
  },
  {
   "cell_type": "code",
   "execution_count": null,
   "metadata": {},
   "outputs": [],
   "source": [
    "lapse_T   = -6.5/1000 # °C / m\n",
    "lapse_RRR =  (0.10/100) # % / m\n",
    "g = 9.81\n",
    "ERA5Alt = (ds_met.z[0,0,0].values)/g\n",
    "T2  = ds_met.t2m[:,0,0].values\n",
    "RRR = ds_met.tp[:,0,0].values*1000\n",
    "print(ERA5Alt)"
   ]
  },
  {
   "cell_type": "code",
   "execution_count": null,
   "metadata": {},
   "outputs": [],
   "source": [
    "plt.plot(RRR)"
   ]
  },
  {
   "cell_type": "code",
   "execution_count": null,
   "metadata": {},
   "outputs": [],
   "source": [
    "for t in range(len(dso.time)):\n",
    "    T_interp[t,:,:] = (T2[t]) + (ds_sta.HGT.values-ERA5Alt)*lapse_T\n",
    "\n",
    "    if RRR[t] <= 0.20:\n",
    "\n",
    "        RRR_interp[t,:,:] = 0.0\n",
    "    else:\n",
    "        RRR_interp[t,:,:] = (RRR[t]) + (ds_sta.HGT.values-ERA5Alt)*lapse_RRR\n",
    "\n",
    "RRR_interp[RRR_interp < 0] = 0\n",
    "\n"
   ]
  },
  {
   "cell_type": "markdown",
   "metadata": {},
   "source": [
    "## Crear una función para guardar los datos interpolados"
   ]
  },
  {
   "cell_type": "code",
   "execution_count": null,
   "metadata": {},
   "outputs": [],
   "source": [
    "\n",
    "def add_variable_along_timelatlon(ds, var, name, units, long_name):\n",
    "    \"\"\" This function adds missing variables to the DATA class \"\"\"\n",
    "    ds[name] = (('time','lat','lon'), var)\n",
    "    ds[name].attrs['units'] = units\n",
    "    ds[name].attrs['long_name'] = long_name\n",
    "    return ds"
   ]
  },
  {
   "cell_type": "markdown",
   "metadata": {},
   "source": [
    "## Adicionar las variables en el netcdf"
   ]
  },
  {
   "cell_type": "code",
   "execution_count": null,
   "metadata": {},
   "outputs": [],
   "source": [
    "add_variable_along_timelatlon(dso, T_interp, 'T2', 'K', 'Temperature at 2 m')\n",
    "add_variable_along_timelatlon(dso, RRR_interp, 'RRR', 'mm', 'Total precipitation (liquid+solid)')"
   ]
  },
  {
   "cell_type": "markdown",
   "metadata": {},
   "source": [
    "## Visualizar los datos"
   ]
  },
  {
   "cell_type": "code",
   "execution_count": null,
   "metadata": {},
   "outputs": [],
   "source": [
    "dso.T2[0,:,:].plot()"
   ]
  },
  {
   "cell_type": "code",
   "execution_count": null,
   "metadata": {},
   "outputs": [],
   "source": [
    "dso.RRR.max()"
   ]
  },
  {
   "cell_type": "code",
   "execution_count": null,
   "metadata": {},
   "outputs": [],
   "source": [
    "dso.RRR[30,:,:].plot()"
   ]
  },
  {
   "cell_type": "markdown",
   "metadata": {},
   "source": [
    "## Guardar el netcdf"
   ]
  },
  {
   "cell_type": "code",
   "execution_count": null,
   "metadata": {},
   "outputs": [],
   "source": [
    "dso.to_netcdf('./data/ERA5_input_bell.nc')"
   ]
  }
 ],
 "metadata": {
  "kernelspec": {
   "display_name": "raster_shp",
   "language": "python",
   "name": "python3"
  },
  "language_info": {
   "codemirror_mode": {
    "name": "ipython",
    "version": 3
   },
   "file_extension": ".py",
   "mimetype": "text/x-python",
   "name": "python",
   "nbconvert_exporter": "python",
   "pygments_lexer": "ipython3",
   "version": "3.12.9"
  },
  "orig_nbformat": 4
 },
 "nbformat": 4,
 "nbformat_minor": 2
}
