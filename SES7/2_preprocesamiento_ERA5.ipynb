{
 "cells": [
  {
   "cell_type": "markdown",
   "metadata": {},
   "source": [
    "# Preprocesamiento ERA5"
   ]
  },
  {
   "cell_type": "markdown",
   "metadata": {},
   "source": [
    "## Importar librerias **`xarray`**"
   ]
  },
  {
   "cell_type": "code",
   "execution_count": null,
   "metadata": {},
   "outputs": [],
   "source": [
    "import xarray as xr\n",
    "import zipfile"
   ]
  },
  {
   "cell_type": "markdown",
   "metadata": {},
   "source": [
    "## Descomprimir los archivos "
   ]
  },
  {
   "cell_type": "code",
   "execution_count": null,
   "metadata": {},
   "outputs": [],
   "source": [
    "!ls"
   ]
  },
  {
   "cell_type": "code",
   "execution_count": null,
   "metadata": {},
   "outputs": [],
   "source": [
    "!rm -r ./data/*FILES"
   ]
  },
  {
   "cell_type": "code",
   "execution_count": null,
   "metadata": {},
   "outputs": [],
   "source": [
    "zipfile.ZipFile('./data/ERA5_T2_G_2008', 'r').extractall('./data/ERA5_T2_G_2008_FILES')\n",
    "zipfile.ZipFile('./data/ERA5_T2_G_2009', 'r').extractall('./data/ERA5_T2_G_2009_FILES')\n",
    "zipfile.ZipFile('./data/ERA5_T2_G_2010', 'r').extractall('./data/ERA5_T2_G_2010_FILES')\n",
    "zipfile.ZipFile('./data/ERA5_T2_G_2011', 'r').extractall('./data/ERA5_T2_G_2011_FILES')\n",
    "zipfile.ZipFile('./data/ERA5_T2_G_2012', 'r').extractall('./data/ERA5_T2_G_2012_FILES')\n",
    "zipfile.ZipFile('./data/ERA5_T2_G_2013', 'r').extractall('./data/ERA5_T2_G_2013_FILES')"
   ]
  },
  {
   "cell_type": "markdown",
   "metadata": {},
   "source": [
    "## Cargar las carpetas descomprimidas"
   ]
  },
  {
   "cell_type": "code",
   "execution_count": null,
   "metadata": {},
   "outputs": [],
   "source": [
    "folders = ['ERA5_T2_G_2008_FILES', 'ERA5_T2_G_2009_FILES', 'ERA5_T2_G_2010_FILES',\n",
    "           'ERA5_T2_G_2011_FILES', 'ERA5_T2_G_2012_FILES', 'ERA5_T2_G_2013_FILES']"
   ]
  },
  {
   "cell_type": "code",
   "execution_count": null,
   "metadata": {},
   "outputs": [],
   "source": [
    "## Leer los archivos netcdf y guardar en una lista\n",
    "ds_list = []\n",
    "for i in range(0, len(folders)):\n",
    "\n",
    "    fname = \"./data/\"+folders[i]+\"/data_stream-oper_stepType-accum.nc\"\n",
    "    ds_accum = xr.open_dataset(fname)\n",
    "    fname = \"./data/\"+folders[i]+\"/data_stream-oper_stepType-instant.nc\"\n",
    "    ds_insta = xr.open_dataset(fname)\n",
    "    ds_list.append(xr.merge([ds_accum, ds_insta]))\n"
   ]
  },
  {
   "cell_type": "markdown",
   "metadata": {},
   "source": [
    "## Concatenar todo los archivos en uno solo"
   ]
  },
  {
   "cell_type": "code",
   "execution_count": null,
   "metadata": {},
   "outputs": [],
   "source": [
    "ds_all = xr.concat(ds_list, dim='valid_time')\n",
    "ds_all"
   ]
  },
  {
   "cell_type": "markdown",
   "metadata": {},
   "source": [
    "## Guardar el archivo netcdf"
   ]
  },
  {
   "cell_type": "code",
   "execution_count": null,
   "metadata": {},
   "outputs": [],
   "source": [
    "ds_all.to_netcdf('./data/ERA5_bell.nc')"
   ]
  },
  {
   "cell_type": "markdown",
   "metadata": {},
   "source": [
    "## Visualizar las variables"
   ]
  },
  {
   "cell_type": "code",
   "execution_count": null,
   "metadata": {},
   "outputs": [],
   "source": [
    "ds_all['t2m'].plot(figsize=(12,4))"
   ]
  },
  {
   "cell_type": "code",
   "execution_count": null,
   "metadata": {},
   "outputs": [],
   "source": [
    "ds_all['tp'].plot(figsize=(12,4))"
   ]
  },
  {
   "cell_type": "code",
   "execution_count": null,
   "metadata": {},
   "outputs": [],
   "source": [
    "ds_all['ssrd'].plot(figsize=(12,4))"
   ]
  }
 ],
 "metadata": {
  "kernelspec": {
   "display_name": "raster_shp",
   "language": "python",
   "name": "python3"
  },
  "language_info": {
   "codemirror_mode": {
    "name": "ipython",
    "version": 3
   },
   "file_extension": ".py",
   "mimetype": "text/x-python",
   "name": "python",
   "nbconvert_exporter": "python",
   "pygments_lexer": "ipython3",
   "version": "3.12.9"
  },
  "orig_nbformat": 4
 },
 "nbformat": 4,
 "nbformat_minor": 2
}
