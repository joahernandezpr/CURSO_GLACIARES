{
 "cells": [
  {
   "cell_type": "markdown",
   "metadata": {},
   "source": [
    "# Visualizamos los datos "
   ]
  },
  {
   "cell_type": "markdown",
   "metadata": {},
   "source": [
    "## Importar librerias **`xarray`**"
   ]
  },
  {
   "cell_type": "code",
   "execution_count": null,
   "metadata": {},
   "outputs": [],
   "source": [
    "import xarray as xr\n",
    "import numpy as np\n",
    "import matplotlib.pyplot as plt"
   ]
  },
  {
   "cell_type": "markdown",
   "metadata": {},
   "source": [
    "## Leer datos"
   ]
  },
  {
   "cell_type": "code",
   "execution_count": null,
   "metadata": {},
   "outputs": [],
   "source": [
    "ds = xr.open_dataset('./output/Bell_SMB_out.nc')\n",
    "ds"
   ]
  },
  {
   "cell_type": "markdown",
   "metadata": {},
   "source": [
    "## Obtener el valor máximo"
   ]
  },
  {
   "cell_type": "code",
   "execution_count": null,
   "metadata": {},
   "outputs": [],
   "source": [
    "ds.ACC.max()"
   ]
  },
  {
   "cell_type": "markdown",
   "metadata": {},
   "source": [
    "## Obtener la serie temporal"
   ]
  },
  {
   "cell_type": "code",
   "execution_count": null,
   "metadata": {},
   "outputs": [],
   "source": [
    "# Acumulación\n",
    "s.ACC.mean(('lat', 'lon')).plot()"
   ]
  },
  {
   "cell_type": "code",
   "execution_count": null,
   "metadata": {},
   "outputs": [],
   "source": [
    "# Derretimiento\n",
    "ds.MELT[:,:,:].mean(('lat', 'lon')).plot()"
   ]
  },
  {
   "cell_type": "code",
   "execution_count": null,
   "metadata": {},
   "outputs": [],
   "source": [
    "# Balance de masa superficial\n",
    "ds.SMB[:,:,:].mean(('lat', 'lon')).plot()"
   ]
  },
  {
   "cell_type": "markdown",
   "metadata": {},
   "source": [
    "## Figura espacial "
   ]
  },
  {
   "cell_type": "code",
   "execution_count": null,
   "metadata": {},
   "outputs": [],
   "source": [
    "## Acumulacón\n",
    "ds.sel(time='2008-07-05T06').ACC[:,:].plot()"
   ]
  },
  {
   "cell_type": "code",
   "execution_count": null,
   "metadata": {},
   "outputs": [],
   "source": [
    "## Balance de masa superficial\n",
    "ds.SMB[0,:,:].plot()"
   ]
  },
  {
   "cell_type": "markdown",
   "metadata": {},
   "source": [
    "## Crear una función para que nos calcule el SMB anual (Abril-Marzo)"
   ]
  },
  {
   "cell_type": "code",
   "execution_count": null,
   "metadata": {},
   "outputs": [],
   "source": [
    "def sum_annual_ds_2d(ds):\n",
    "    year = np.unique(ds.time.dt.year.values)\n",
    "    V_interp = []\n",
    "    for i in range(len(year)-1):\n",
    "        V_interp.append(ds.sel(time=slice(f'{year[i]}-04-01',f'{year[i]+1}-03-31')).sum('time').values)\n",
    "\n",
    "    da_a = xr.DataArray(\n",
    "        V_interp,\n",
    "        dims=('time', 'lat', 'lon'),\n",
    "        coords=[\n",
    "            ('time', year[1:]),\n",
    "            ('lat', ds.lat.values),\n",
    "            ('lon', ds.lon.values),\n",
    "        ],\n",
    "    )\n",
    "    da_a.lon.attrs['long_name'] = 'lon'\n",
    "    da_a.lat.attrs['long_name'] = 'lat'\n",
    "\n",
    "    return da_a\n"
   ]
  },
  {
   "cell_type": "code",
   "execution_count": null,
   "metadata": {},
   "outputs": [],
   "source": [
    "# Balance de masa anual\n",
    "SMB_yr_h = sum_annual_ds_2d(ds.SMB).where(ds.MASK==1)"
   ]
  },
  {
   "cell_type": "markdown",
   "metadata": {},
   "source": [
    "## Figura del SMB para los años simulados"
   ]
  },
  {
   "cell_type": "code",
   "execution_count": null,
   "metadata": {},
   "outputs": [],
   "source": [
    "print(SMB_yr_h.min())\n",
    "print(SMB_yr_h.max())\n",
    "\n",
    "SMB_yr_h.plot.imshow(x=\"lon\", y=\"lat\", col=\"time\", col_wrap=3, robust=True, cmap='RdBu')\n"
   ]
  },
  {
   "cell_type": "markdown",
   "metadata": {},
   "source": [
    "## Serie temporal de SMB por año"
   ]
  },
  {
   "cell_type": "code",
   "execution_count": null,
   "metadata": {},
   "outputs": [],
   "source": [
    "SMB_yr_h.mean(('lat', 'lon')).to_dataframe(name=\"SMB\").plot(kind='bar', figsize=(8,4))"
   ]
  },
  {
   "cell_type": "markdown",
   "metadata": {},
   "source": [
    "## Crear una barra de colores personalizados"
   ]
  },
  {
   "cell_type": "code",
   "execution_count": null,
   "metadata": {},
   "outputs": [],
   "source": [
    "import matplotlib.colors as colors"
   ]
  },
  {
   "cell_type": "code",
   "execution_count": null,
   "metadata": {},
   "outputs": [],
   "source": [
    "negatives = -1.2\n",
    "positives =  0.1\n",
    "\n",
    "bounds_min = np.linspace(negatives, 0, 129)\n",
    "bounds_max = np.linspace(0, positives, 129)[1:]\n",
    "    # the zero is only needed once\n",
    "    # in total there will be 257 bounds, so 256 bins\n",
    "bounds = np.concatenate((bounds_min, bounds_max), axis=None)\n",
    "norm = colors.BoundaryNorm(boundaries=bounds, ncolors=256)\n",
    "\n",
    "num_neg_colors = int(256 / (positives - negatives) * (-negatives))\n",
    "num_pos_colors = 256 - num_neg_colors\n",
    "cmap_BuRd = plt.cm.RdBu\n",
    "colors_2neg_4pos = [cmap_BuRd(0.5*c/num_neg_colors) for c in range(num_neg_colors)] + [cmap_BuRd(1-0.5*c/num_pos_colors) for c in range(num_pos_colors)][::-1]\n",
    "cmap_2neg_4pos = colors.LinearSegmentedColormap.from_list('cmap_2neg_4pos', colors_2neg_4pos, N=256)\n"
   ]
  },
  {
   "cell_type": "markdown",
   "metadata": {},
   "source": [
    "## Figura del SMB varios años"
   ]
  },
  {
   "cell_type": "code",
   "execution_count": null,
   "metadata": {},
   "outputs": [],
   "source": [
    "SMB_yr_h.plot.imshow(x=\"lon\", y=\"lat\", col=\"time\", col_wrap=3, robust=True, cmap=cmap_2neg_4pos, vmin=-1.2, vmax=0.1)"
   ]
  }
 ],
 "metadata": {
  "kernelspec": {
   "display_name": "raster_shp",
   "language": "python",
   "name": "python3"
  },
  "language_info": {
   "codemirror_mode": {
    "name": "ipython",
    "version": 3
   },
   "file_extension": ".py",
   "mimetype": "text/x-python",
   "name": "python",
   "nbconvert_exporter": "python",
   "pygments_lexer": "ipython3",
   "version": "3.12.9"
  },
  "orig_nbformat": 4
 },
 "nbformat": 4,
 "nbformat_minor": 2
}
