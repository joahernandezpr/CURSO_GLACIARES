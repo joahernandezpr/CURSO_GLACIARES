{
 "cells": [
  {
   "cell_type": "markdown",
   "metadata": {},
   "source": [
    "# 🛠 Instalación de Miniconda en Windows\n",
    "Miniconda es una distribución ligera de Conda, que permite gestionar entornos y paquetes en Python.\n",
    "\n",
    "## 1. Descarga de Miniconda\n",
    "Accede a la página oficial de [Miniconda](https://www.anaconda.com/download/success) y selecciona la versión adecuada para Windows.\n",
    "\n",
    "![Descarga Miniconda](https://www.mrdbourke.com/content/images/size/w2000/2019/10/conda-anaconda-workbench-1.png)\n",
    "\n",
    "## 2. Instalación\n",
    "Ejecuta el instalador y sigue los pasos:\n",
    "1. Acepta los términos de la licencia.\n",
    "2. Elige una ruta de instalación.\n",
    "3. Configura la opción para añadir Conda al PATH (recomendado usar Anaconda Prompt en lugar de modificar PATH).\n",
    "\n",
    "## 3. Verificación de Instalación\n",
    "Abre **Anaconda Prompt** y ejecuta:\n",
    "```bash\n",
    "conda --version\n",
    "```\n",
    "Deberías ver una salida similar a:\n",
    "```bash\n",
    "conda 23.1.0\n",
    "```\n",
    "\n",
    "## 4. Creación de un Entorno Virtual\n",
    "Para crear un entorno virtual con Python 3.9:\n",
    "```bash\n",
    "conda create -n mi_entorno python=3.9\n",
    "```\n",
    "Activar el entorno:\n",
    "```bash\n",
    "conda activate mi_entorno\n",
    "```\n",
    "\n",
    "## 5. Instalación de Paquetes\n",
    "Para instalar paquetes dentro del entorno, usa:\n",
    "```bash\n",
    "conda install numpy pandas matplotlib\n",
    "```\n",
    "\n",
    "## Conclusión\n",
    "Miniconda es una opción ligera y eficiente para gestionar entornos virtuales y paquetes en Python, ideal para quienes no necesitan la distribución completa de Anaconda.\n"
   ]
  }
 ],
 "metadata": {
  "language_info": {
   "name": "python"
  }
 },
 "nbformat": 4,
 "nbformat_minor": 2
}
