{
 "cells": [
  {
   "cell_type": "markdown",
   "metadata": {},
   "source": [
    "# Para usuarios de Windows: la diferencia entre Command Prompt, Anaconda Prompt y el intérprete de Python\n",
    "\n",
    "Muchos de ustedes han abierto un terminal por primera vez en esta clase. Cuando era niño y mis padres compraron nuestra primera computadora, abrir una terminal era algo normal, ¡e incluso la necesitaba para jugar!\n",
    "\n",
    "**No hay nada que temer**. Usarás el terminal con frecuencia, pero solo lo necesitarás para iniciar Python, JupyterLab o cualquier otra herramienta de Python que elijas.\n",
    "\n",
    "## 1. El Command Prompt (o `cmd.exe`)\n",
    "\n",
    "Lo encontrarás escribiendo `cmd` en la barra de búsqueda de Windows:\n",
    "\n",
    "![Command Prompt](./figs_windows/cmd.png)\n",
    "\n",
    "En el Command Prompt, puedes hacer muchas cosas, pero lo único que realmente necesitarás es **navegar** a la carpeta que elijas. El nombre de la carpeta actualmente activa siempre se indica al comienzo de la línea de comando.\n",
    "\n",
    "### Comandos útiles en Command Prompt:\n",
    "- `help`: ver la lista de comandos disponibles.\n",
    "- `dir`: enumera los directorios (carpetas) en la ubicación actual.\n",
    "- `cd FolderName`: navega a la carpeta `FolderName`.\n",
    "- `cd ..`: navega una carpeta hacia arriba.\n",
    "- `TAB`: solicita al símbolo del sistema que complete el nombre por ti. Por ejemplo, si escribes solo dos letras de la carpeta deseada, presionar `TAB` podría completarlo automáticamente.\n",
    "- `exit`: sale del indicador (también puedes simplemente cerrar la ventana).\n",
    "\n",
    "¡Eso es todo! La razón por la que necesitas poder navegar a una carpeta específica se explicará en la próxima lección.\n",
    "\n",
    "Puedes encontrar más comandos en este [enlace](https://www.profesionalreview.com/2019/02/01/trucos-cmd/).\n",
    "\n",
    "## 2. El Anaconda Prompt\n",
    "\n",
    "Lo encontrarás escribiendo `cmd` en la barra de búsqueda de Windows:\n",
    "\n",
    "![Anaconda Prompt](./figs_windows/anaconda_prompt.png)\n",
    "\n",
    "Reconocerás que estás en un indicador de Anaconda por el título de la ventana y el texto `(base)` antes de la ubicación:\n",
    "\n",
    "![Miniconda Base](./figs_windows/miniconda_base.png)\n",
    "\n",
    "El indicador de Miniconda es exactamente igual que el símbolo del sistema, **pero tiene Python instalado**. Todos los comandos explicados anteriormente también funcionan en el indicador de Miniconda, pero ahora tienes disponibles los siguientes comandos adicionales:\n",
    "\n",
    "### Comandos útiles en Anaconda Prompt:\n",
    "- Todos los comandos de `conda` (por ejemplo, `conda list`, `conda install`, ...).\n",
    "- Para abrir un intérprete de Python: `python`, y más tarde también `ipython`, `jupyter-lab`.\n",
    "\n",
    "En la práctica, realmente nunca abrirás el símbolo del sistema. Siempre utilizarás el indicador de Miniconda. Lo usarás para navegar a una carpeta y luego iniciar un intérprete de Python.\n",
    "\n",
    "## 3. El intérprete de Python\n",
    "\n",
    "El intérprete de Python se puede abrir de muchas maneras diferentes, pero la forma de aprender primero es iniciarlo desde el indicador de Miniconda. El intérprete de Python es reconocible por los tres signos \"mayor que\" (`>>>`) al comienzo de la línea de comando. \n",
    "\n",
    "El intérprete de Python es donde los comandos de Python son válidos.\n",
    "\n",
    "![Intérprete de Python](./figs_windows/python_inte.png)\n"
   ]
  }
 ],
 "metadata": {
  "language_info": {
   "name": "python"
  }
 },
 "nbformat": 4,
 "nbformat_minor": 2
}
