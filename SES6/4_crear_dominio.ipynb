{
 "cells": [
  {
   "cell_type": "markdown",
   "metadata": {},
   "source": [
    "# Crear el dominio del glaciar "
   ]
  },
  {
   "cell_type": "markdown",
   "metadata": {},
   "source": [
    "En este cuaderno aprenderemos a crear el dominio del glaciar. Usaremos los netcdf creados previamente. "
   ]
  },
  {
   "cell_type": "markdown",
   "metadata": {},
   "source": [
    "## Importar librerias **`Xarray`** y **`Numpy`** "
   ]
  },
  {
   "cell_type": "code",
   "execution_count": null,
   "metadata": {},
   "outputs": [],
   "source": [
    "# Importar las bibliotecas necesarias\n",
    "# Xarray: Para manejar datos en formato NetCDF\n",
    "# NumPy: Para operaciones numéricas\n",
    "import xarray as xr\n",
    "import numpy as np"
   ]
  },
  {
   "cell_type": "code",
   "execution_count": null,
   "metadata": {},
   "outputs": [],
   "source": [
    "# Cargar los datos del modelo de elevación digital (DEM) y la máscara desde archivos NetCDF\n",
    "dem  = xr.open_dataset('./dem_pros/Bell_dem_fill.nc')\n",
    "mask = xr.open_dataset('./dem_pros/Bell_mask.nc')\n",
    "slope = xr.open_dataset('./dem_pros/Bell_slope.nc')\n",
    "aspect = xr.open_dataset('./dem_pros/Bell_aspect.nc')"
   ]
  },
  {
   "cell_type": "code",
   "execution_count": null,
   "metadata": {},
   "outputs": [],
   "source": [
    "dem.Band1.plot()"
   ]
  },
  {
   "cell_type": "code",
   "execution_count": null,
   "metadata": {},
   "outputs": [],
   "source": [
    "mask.Band1.plot()"
   ]
  },
  {
   "cell_type": "code",
   "execution_count": null,
   "metadata": {},
   "outputs": [],
   "source": [
    "mask=mask.Band1.values\n",
    "mask[np.isnan(mask)]=0\n",
    "mask[mask>0]=1"
   ]
  },
  {
   "cell_type": "code",
   "execution_count": null,
   "metadata": {},
   "outputs": [],
   "source": [
    "ds = xr.Dataset()\n",
    "ds"
   ]
  },
  {
   "cell_type": "code",
   "execution_count": null,
   "metadata": {},
   "outputs": [],
   "source": [
    "ds.coords['lon'] = dem.lon.values\n",
    "ds.lon.attrs['standard_name'] = 'lon'\n",
    "ds.lon.attrs['long_name'] = 'longitude'\n",
    "ds.lon.attrs['units'] = 'degrees_east'\n",
    "\n",
    "ds.coords['lat'] = dem.lat.values\n",
    "ds.lat.attrs['standard_name'] = 'lat'\n",
    "ds.lat.attrs['long_name'] = 'latitude'\n",
    "ds.lat.attrs['units'] = 'degrees_north'"
   ]
  },
  {
   "cell_type": "code",
   "execution_count": null,
   "metadata": {},
   "outputs": [],
   "source": [
    "ds"
   ]
  },
  {
   "cell_type": "code",
   "execution_count": null,
   "metadata": {},
   "outputs": [],
   "source": [
    "### Función para insertar variables en el conjunto de datos\n",
    "def insert_var(ds, var, name, units, long_name):\n",
    "    ds[name] = (('lat','lon'), var)\n",
    "    ds[name].attrs['units'] = units\n",
    "    ds[name].attrs['long_name'] = long_name\n",
    "    ds[name].attrs['_FillValue'] = -9999"
   ]
  },
  {
   "cell_type": "code",
   "execution_count": null,
   "metadata": {},
   "outputs": [],
   "source": [
    "### Insertar las variables estáticas necesarias\n",
    "insert_var(ds, dem.Band1.values,'HGT','meters','meter above sea level')\n",
    "insert_var(ds, aspect.Band1.values,'ASPECT','degrees','Aspect of slope')\n",
    "insert_var(ds, slope.Band1.values,'SLOPE','degrees','Terrain slope')\n",
    "insert_var(ds, mask,'MASK','boolean','Glacier mask')"
   ]
  },
  {
   "cell_type": "code",
   "execution_count": null,
   "metadata": {},
   "outputs": [],
   "source": [
    "ds"
   ]
  },
  {
   "cell_type": "code",
   "execution_count": null,
   "metadata": {},
   "outputs": [],
   "source": [
    "print(ds.lon.min(), ds.lon.max())\n",
    "print(ds.lat.min(), ds.lat.max())"
   ]
  },
  {
   "cell_type": "code",
   "execution_count": null,
   "metadata": {},
   "outputs": [],
   "source": [
    "### Mostrar el número de puntos de cuadrícula de los glaciares\n",
    "print(\"Study area consists of \", np.nansum(mask[mask==1]), \" glacier points\")"
   ]
  },
  {
   "cell_type": "code",
   "execution_count": null,
   "metadata": {},
   "outputs": [],
   "source": [
    "### Guardar el archivo estático combinado\n",
    "ds.to_netcdf('./dom/Bell_dom.nc')"
   ]
  },
  {
   "cell_type": "code",
   "execution_count": null,
   "metadata": {},
   "outputs": [],
   "source": [
    "ds.SLOPE.plot()"
   ]
  }
 ],
 "metadata": {
  "kernelspec": {
   "display_name": "DL_SMB",
   "language": "python",
   "name": "python3"
  },
  "language_info": {
   "codemirror_mode": {
    "name": "ipython",
    "version": 3
   },
   "file_extension": ".py",
   "mimetype": "text/x-python",
   "name": "python",
   "nbconvert_exporter": "python",
   "pygments_lexer": "ipython3",
   "version": "3.10.5"
  }
 },
 "nbformat": 4,
 "nbformat_minor": 2
}
