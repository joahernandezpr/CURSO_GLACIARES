{
 "cells": [
  {
   "cell_type": "markdown",
   "metadata": {},
   "source": [
    "# Descargar datos de reanálisis **ERA5**"
   ]
  },
  {
   "cell_type": "markdown",
   "metadata": {},
   "source": [
    "# Datos de Reanálisis\n",
    "\n",
    "Los **datos de reanálisis** proporcionan la imagen más completa posible de los datos históricos de tiempo y clima. Son una combinación de observaciones con predicciones meteorológicas pasadas a corto plazo, que se repiten utilizando modelos modernos de predicción meteorológica. Estos datos son globalmente completos y coherentes en el tiempo, lo que a veces les da la denominación de **\"mapas sin espacios\"**.\n",
    "\n",
    "## Fuentes de Datos de Reanálisis\n",
    "\n",
    "Existen diversas fuentes de datos de reanálisis, como **NCEP/NCAR**, **ERA5**, **ERA5-Land**, entre otras. Puedes consultar un resumen de las fuentes de reanálisis disponibles en este [enlace](https://climatedataguide.ucar.edu/climate-data/atmospheric-reanalysis-overview-comparison-tables).\n",
    "\n",
    "## ¿Cómo se Generan los Datos de Reanálisis?\n",
    "\n",
    "El proceso de **reanálisis** combina **predicciones meteorológicas pasadas** a corto plazo con **observaciones** mediante un proceso conocido como **asimilación de datos**. Este proceso es similar a la creación de pronósticos meteorológicos diarios, en donde se utiliza un análisis del estado actual del sistema terrestre como punto de partida. El análisis de reanálisis es una combinación de observaciones físicamente coherentes con un pronóstico a corto plazo basado en el análisis anterior.\n",
    "\n",
    "![Reanálisis ERA5](./img/era5_reanalisis.jpg)\n",
    "\n",
    "## Reanálisis **ERA5**\n",
    "\n",
    "**ERA5** es el reanálisis de quinta generación del **ECMWF** para el clima y el tiempo global, que cubre las últimas 4 a 7 décadas. Los datos de ERA5 están disponibles desde 1950 y se dividen en dos periodos:\n",
    "\n",
    "- De 1950 a 1978: **Extensión preliminar**.\n",
    "- Desde 1979 en adelante: **Versión final**, que incluye actualizaciones oportunas.\n",
    "\n",
    "ERA5 reemplaza al reanálisis **ERA-Interim**.\n",
    "\n",
    "![Datos de ERA5](./img/er5_reanalisis_data.jpg)\n",
    "\n",
    "## Registrarse en CDS\n",
    "\n",
    "Si aún no te has registrado en el **Climate Data Store (CDS)**, puedes hacerlo [aquí](https://cds.climate.copernicus.eu/). El registro es necesario para poder descargar los datos desde el CDS.\n",
    "\n",
    "## Descargar ERA5 a través de la API de CDS\n",
    "\n",
    "Para descargar los datos de ERA5, puedes usar la **API de CDS**. A continuación, se detallan los pasos para instalar y configurar el entorno:\n",
    "\n",
    "### 1. Instalar el módulo `cdsapi`\n",
    "\n",
    "Si aún no tienes instalado el módulo `cdsapi`, puedes instalarlo utilizando el siguiente comando en **Anaconda Prompt**:\n",
    "\n",
    "```bash\n",
    "conda install -c conda-forge cdsapi\n",
    "\n",
    "```\n",
    "\n",
    "### 2. Configurar tu usuario y clave en CDS\n",
    "\n",
    "Una vez instalado el módulo, necesitas configurar tu computadora con tu usuario y clave proporcionados por el CDS.\n",
    "\n",
    "> Deberás crear un archivo **.cdsapirc** en tu home y copiar tu usuario y clave. Sigue los pasos [aquí](https://cds.climate.copernicus.eu/how-to-api) para hacer esto.\n",
    "\n"
   ]
  },
  {
   "cell_type": "code",
   "execution_count": null,
   "metadata": {},
   "outputs": [],
   "source": [
    "!pwd"
   ]
  },
  {
   "cell_type": "markdown",
   "metadata": {},
   "source": [
    "### Importar el modulo cdsapi"
   ]
  },
  {
   "cell_type": "code",
   "execution_count": null,
   "metadata": {},
   "outputs": [],
   "source": [
    "import cdsapi\n",
    "\n",
    "dataset = \"reanalysis-era5-single-levels\"\n",
    "request = {\n",
    "    \"product_type\": [\"reanalysis\"],\n",
    "    \"variable\": [\"2m_temperature\"],\n",
    "    \"year\": [\"2023\"],\n",
    "    \"month\": [\n",
    "        \"01\", \"02\", \"03\",\n",
    "        \"04\", \"05\", \"06\",\n",
    "        \"07\", \"08\", \"09\",\n",
    "        \"10\", \"11\", \"12\"\n",
    "    ],\n",
    "    \"day\": [\n",
    "        \"01\", \"02\", \"03\",\n",
    "        \"04\", \"05\", \"06\",\n",
    "        \"07\", \"08\", \"09\",\n",
    "        \"10\", \"11\", \"12\",\n",
    "        \"13\", \"14\", \"15\",\n",
    "        \"16\", \"17\", \"18\",\n",
    "        \"19\", \"20\", \"21\",\n",
    "        \"22\", \"23\", \"24\",\n",
    "        \"25\", \"26\", \"27\",\n",
    "        \"28\", \"29\", \"30\",\n",
    "        \"31\"\n",
    "    ],\n",
    "    \"time\": [\n",
    "        \"00:00\", \"06:00\", \"12:00\",\n",
    "        \"18:00\"\n",
    "    ],\n",
    "    \"data_format\": \"netcdf\",\n",
    "    \"download_format\": \"unarchived\",\n",
    "    \"area\": [-7.5, -79, -11, -77] #North, West, South, East \n",
    "}\n",
    "\n",
    "target = './data/ERA5_T2_2023.nc'\n",
    "client = cdsapi.Client()\n",
    "client.retrieve(dataset, request, target)\n"
   ]
  }
 ],
 "metadata": {
  "kernelspec": {
   "display_name": "era5",
   "language": "python",
   "name": "python3"
  },
  "language_info": {
   "codemirror_mode": {
    "name": "ipython",
    "version": 3
   },
   "file_extension": ".py",
   "mimetype": "text/x-python",
   "name": "python",
   "nbconvert_exporter": "python",
   "pygments_lexer": "ipython3",
   "version": "3.12.9"
  },
  "orig_nbformat": 4
 },
 "nbformat": 4,
 "nbformat_minor": 2
}
