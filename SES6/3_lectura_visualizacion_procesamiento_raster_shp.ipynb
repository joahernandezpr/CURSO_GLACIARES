{
 "cells": [
  {
   "cell_type": "markdown",
   "metadata": {},
   "source": [
    "# Lectura y visualización de Raster y Shapefiles"
   ]
  },
  {
   "cell_type": "markdown",
   "metadata": {},
   "source": [
    "Crea un ambiente e instala las siguientes librerías:\n",
    "\n",
    "``` bash\n",
    "conda create -n raster_shp\n",
    "conda install gdal rasterio fiona geopandas matplotlib xarray netcdf4 ipykernel\n",
    "\n",
    "```"
   ]
  },
  {
   "cell_type": "markdown",
   "metadata": {},
   "source": [
    "## Importar librerias **`Rasterio`**, **`Geopandas`** y **`Gdal`**. "
   ]
  },
  {
   "cell_type": "code",
   "execution_count": null,
   "metadata": {},
   "outputs": [],
   "source": [
    "import rasterio\n",
    "import numpy as np\n",
    "import matplotlib.pyplot as plt\n",
    "import geopandas as gpd\n",
    "import xarray as xr"
   ]
  },
  {
   "cell_type": "code",
   "execution_count": null,
   "metadata": {},
   "outputs": [],
   "source": [
    "!rm dem_pros/*"
   ]
  },
  {
   "cell_type": "markdown",
   "metadata": {},
   "source": [
    "## Leer raster"
   ]
  },
  {
   "cell_type": "code",
   "execution_count": null,
   "metadata": {},
   "outputs": [],
   "source": [
    "# Abri el raster\n",
    "raster_path = \"./dem/Bell_dem.tif\"\n",
    "with rasterio.open(raster_path) as src:\n",
    "    raster_data = src.read(1)  # Read the first band\n",
    "    extent = [src.bounds.left, src.bounds.right, src.bounds.bottom, src.bounds.top]"
   ]
  },
  {
   "cell_type": "code",
   "execution_count": null,
   "metadata": {},
   "outputs": [],
   "source": [
    "raster_data[raster_data == raster_data.min()] = 0"
   ]
  },
  {
   "cell_type": "code",
   "execution_count": null,
   "metadata": {},
   "outputs": [],
   "source": [
    "raster_data"
   ]
  },
  {
   "cell_type": "code",
   "execution_count": null,
   "metadata": {},
   "outputs": [],
   "source": [
    "# Plot the raster\n",
    "plt.figure(figsize=(6,6))\n",
    "plt.imshow(raster_data, cmap=\"terrain\", extent=extent)\n",
    "plt.colorbar(label=\"Elevation\")\n",
    "plt.title(\"Raster Visualization\")\n",
    "plt.xlabel(\"Longitude\")\n",
    "plt.ylabel(\"Latitude\")\n",
    "plt.show()"
   ]
  },
  {
   "cell_type": "code",
   "execution_count": null,
   "metadata": {},
   "outputs": [],
   "source": [
    "# Abrir shapefile\n",
    "gdf = gpd.read_file(\"./shp/BEL_GLA.shp\")"
   ]
  },
  {
   "cell_type": "code",
   "execution_count": null,
   "metadata": {},
   "outputs": [],
   "source": [
    "# Plot the shapefile\n",
    "gdf.plot(figsize=(6,4), edgecolor=\"black\", facecolor=\"none\")\n",
    "plt.title(\"Shapefile Visualization\")\n",
    "plt.xlabel(\"Longitude\")\n",
    "plt.ylabel(\"Latitude\")\n",
    "plt.show()"
   ]
  },
  {
   "cell_type": "code",
   "execution_count": null,
   "metadata": {},
   "outputs": [],
   "source": [
    "fig, ax = plt.subplots(figsize=(8,6))\n",
    "\n",
    "# Plot raster\n",
    "ax.imshow(raster_data, cmap=\"terrain\", extent=extent)\n",
    "\n",
    "# Plot shapefile\n",
    "gdf.plot(ax=ax, edgecolor=\"red\", facecolor=\"none\", linewidth=1.5)\n",
    "\n",
    "plt.title(\"Overlay: Raster & Shapefile\")\n",
    "plt.xlabel(\"Longitude\")\n",
    "plt.ylabel(\"Latitude\")\n",
    "plt.show()"
   ]
  },
  {
   "cell_type": "code",
   "execution_count": null,
   "metadata": {},
   "outputs": [],
   "source": [
    "gdf.total_bounds"
   ]
  },
  {
   "cell_type": "code",
   "execution_count": null,
   "metadata": {},
   "outputs": [],
   "source": [
    "import os\n",
    "\n",
    "### Para reducir el tamaño del DEM, utilice las siguientes esquinas de latitud y longitud\n",
    "longitude_upper_left = '-58.93'\n",
    "latitude_upper_left = '-62.14'\n",
    "longitude_lower_right = '-58.84'\n",
    "latitude_lower_right = '-62.19'\n",
    "\n",
    "\n",
    "### Si no desea reducir el DEM, comente lo siguiente en tres líneas\n",
    "os.system('gdal_translate -projwin ' + longitude_upper_left + ' ' + latitude_upper_left + ' ' +\n",
    "          longitude_lower_right + ' ' + latitude_lower_right + ' ' + './dem/Bell_dem.tif' + \n",
    "          ' ' + './dem_pros/Bell_dem_clip.tif')\n"
   ]
  },
  {
   "cell_type": "code",
   "execution_count": null,
   "metadata": {},
   "outputs": [],
   "source": [
    "# Abrir el archivo raster\n",
    "raster_path = \"./dem_pros/Bell_dem_clip.tif\"\n",
    "with rasterio.open(raster_path) as src:\n",
    "    raster_data = src.read(1)  # Read the first band\n",
    "    extent = [src.bounds.left, src.bounds.right, src.bounds.bottom, src.bounds.top]"
   ]
  },
  {
   "cell_type": "code",
   "execution_count": null,
   "metadata": {},
   "outputs": [],
   "source": [
    "raster_data[raster_data == raster_data.min()] = 0"
   ]
  },
  {
   "cell_type": "code",
   "execution_count": null,
   "metadata": {},
   "outputs": [],
   "source": [
    "fig, ax = plt.subplots(figsize=(5,7))\n",
    "\n",
    "# Plot raster\n",
    "ax.imshow(raster_data, cmap=\"terrain\", extent=extent)\n",
    "\n",
    "# Plot shapefile\n",
    "gdf.plot(ax=ax, edgecolor=\"red\", facecolor=\"none\", linewidth=1.5)\n",
    "\n",
    "plt.title(\"Overlay: Raster & Shapefile\")\n",
    "plt.xlabel(\"Longitude\")\n",
    "plt.ylabel(\"Latitude\")\n",
    "plt.show()"
   ]
  },
  {
   "cell_type": "code",
   "execution_count": null,
   "metadata": {},
   "outputs": [],
   "source": [
    "### Cambiar resolución de raster\n",
    "aggregate_degree = '0.002'\n",
    "os.system('gdalwarp -tr ' + aggregate_degree + ' ' + aggregate_degree + ' -r average ' +  \n",
    "          './dem_pros/Bell_dem_clip.tif' + ' ' + './dem_pros/Bell_dem_clip_res.tif')"
   ]
  },
  {
   "cell_type": "code",
   "execution_count": null,
   "metadata": {},
   "outputs": [],
   "source": [
    "# Abrir el archivo raster\n",
    "raster_path = \"./dem_pros/Bell_dem_clip_res.tif\"\n",
    "with rasterio.open(raster_path) as src:\n",
    "    raster_data = src.read(1)  # Read the first band\n",
    "    extent = [src.bounds.left, src.bounds.right, src.bounds.bottom, src.bounds.top]"
   ]
  },
  {
   "cell_type": "code",
   "execution_count": null,
   "metadata": {},
   "outputs": [],
   "source": [
    "raster_data[raster_data == raster_data.min()] = 0"
   ]
  },
  {
   "cell_type": "code",
   "execution_count": null,
   "metadata": {},
   "outputs": [],
   "source": [
    "fig, ax = plt.subplots(figsize=(5,7))\n",
    "\n",
    "# Plot raster\n",
    "cf = ax.imshow(raster_data, cmap=\"terrain\", extent=extent)\n",
    "# Plot shapefile\n",
    "gdf.plot(ax=ax, edgecolor=\"red\", facecolor=\"none\", linewidth=1.5)\n",
    "\n",
    "plt.title(\"Overlay: Raster & Shapefile\")\n",
    "plt.xlabel(\"Longitude\")\n",
    "plt.ylabel(\"Latitude\")\n",
    "\n",
    "cax = fig.add_axes([ax.get_position().x1+0.01,ax.get_position().y0,0.02,ax.get_position().height])\n",
    "fig.colorbar(cf, shrink=0.85, cax=cax)\n",
    "\n",
    "plt.show()"
   ]
  },
  {
   "cell_type": "code",
   "execution_count": null,
   "metadata": {},
   "outputs": [],
   "source": [
    "### Convertir DEM de tif a NetCDF\n",
    "os.system('gdal_translate -of NETCDF ' + \"./dem_pros/Bell_dem_clip_res.tif\"  + ' ' + './dem_pros/Bell_dem.nc')"
   ]
  },
  {
   "cell_type": "code",
   "execution_count": null,
   "metadata": {},
   "outputs": [],
   "source": [
    "os.system('gdalwarp -of NETCDF  --config GDALWARP_IGNORE_BAD_CUTLINE YES -cutline ' + \"./shp/BEL_GLA.shp\" + ' ' + \n",
    "          \"./dem_pros/Bell_dem_clip_res.tif\"  + ' ' + \"./dem_pros/Bell_mask.nc\")"
   ]
  },
  {
   "cell_type": "code",
   "execution_count": null,
   "metadata": {},
   "outputs": [],
   "source": [
    "dem = xr.open_dataset('./dem_pros/Bell_dem.nc').fillna(0)\n",
    "array = dem.Band1.values\n",
    "array[np.isnan(array)] = 0\n",
    "array[array < 0] = 0\n",
    "dem['Band1'][:] = array\n",
    "dem.to_netcdf('./dem_pros/Bell_dem_fill.nc')"
   ]
  },
  {
   "cell_type": "code",
   "execution_count": null,
   "metadata": {},
   "outputs": [],
   "source": [
    "### Calcular pendiente como NetCDF a partir de DEM\n",
    "os.system('gdaldem slope -of NETCDF ' + './dem_pros/Bell_dem_fill.nc' + ' ' + './dem_pros/Bell_slope.nc' + ' -s 111120')\n",
    "\n",
    "### Calcular el aspecto como NetCDF a partir de DEM\n",
    "os.system('gdaldem aspect -of NETCDF ' + './dem_pros/Bell_dem_fill.nc' + ' ' + './dem_pros/Bell_aspect.nc')"
   ]
  }
 ],
 "metadata": {
  "kernelspec": {
   "display_name": "raster_shp",
   "language": "python",
   "name": "python3"
  },
  "language_info": {
   "codemirror_mode": {
    "name": "ipython",
    "version": 3
   },
   "file_extension": ".py",
   "mimetype": "text/x-python",
   "name": "python",
   "nbconvert_exporter": "python",
   "pygments_lexer": "ipython3",
   "version": "3.12.9"
  },
  "orig_nbformat": 4
 },
 "nbformat": 4,
 "nbformat_minor": 2
}
